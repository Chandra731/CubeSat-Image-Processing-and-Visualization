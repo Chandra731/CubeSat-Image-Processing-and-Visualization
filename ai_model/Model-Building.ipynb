{
  "nbformat": 4,
  "nbformat_minor": 0,
  "metadata": {
    "colab": {
      "provenance": []
    },
    "kernelspec": {
      "name": "python3",
      "display_name": "Python 3"
    },
    "language_info": {
      "name": "python"
    }
  },
  "cells": [
    {
      "cell_type": "code",
      "execution_count": null,
      "metadata": {
        "colab": {
          "base_uri": "https://localhost:8080/"
        },
        "id": "F6FYZcFVbdSz",
        "outputId": "37f42ee3-c5db-4c41-da8c-98502445df5d"
      },
      "outputs": [
        {
          "output_type": "stream",
          "name": "stdout",
          "text": [
            "Mounted at /content/drive\n"
          ]
        }
      ],
      "source": [
        "from google.colab import drive\n",
        "drive.mount('/content/drive')"
      ]
    },
    {
      "cell_type": "code",
      "source": [
        "import os\n",
        "import numpy as np\n",
        "import pandas as pd\n",
        "import tensorflow as tf\n",
        "import matplotlib.pyplot as plt\n",
        "import seaborn as sns\n",
        "from tqdm.notebook import tqdm\n",
        "from sklearn.model_selection import train_test_split\n",
        "from sklearn.utils.class_weight import compute_class_weight\n",
        "from sklearn.metrics import classification_report, confusion_matrix\n",
        "from PIL import Image"
      ],
      "metadata": {
        "id": "4lXMcZnkbwV0"
      },
      "execution_count": null,
      "outputs": []
    },
    {
      "cell_type": "code",
      "source": [
        "# Ensure TensorFlow uses memory efficiently\n",
        "gpus = tf.config.experimental.list_physical_devices('GPU')\n",
        "for gpu in gpus:\n",
        "    tf.config.experimental.set_memory_growth(gpu, True)"
      ],
      "metadata": {
        "id": "4zz6i6L1bxV0"
      },
      "execution_count": null,
      "outputs": []
    },
    {
      "cell_type": "code",
      "source": [
        "BASE_PATH = \"/content/drive/MyDrive/EuroSat/EuroSAT_RGB\"\n",
        "IMAGE_SIZE = (224, 224)\n",
        "BATCH_SIZE = 32\n",
        "VALID_SIZE = 0.2"
      ],
      "metadata": {
        "id": "7qw29-2vb2Ul"
      },
      "execution_count": null,
      "outputs": []
    },
    {
      "cell_type": "code",
      "source": [
        "# Create DataFrame with image paths and labels\n",
        "def create_dataframe(base_path):\n",
        "    file_list = [(os.path.join(root, file), os.path.basename(root))\n",
        "                 for root, _, files in os.walk(base_path) for file in files]\n",
        "    return pd.DataFrame(file_list, columns=['image_path', 'label'])"
      ],
      "metadata": {
        "id": "7940MYrrb6C7"
      },
      "execution_count": null,
      "outputs": []
    },
    {
      "cell_type": "code",
      "source": [
        "# Load dataset\n",
        "DATA_DF = create_dataframe(BASE_PATH)\n",
        "DATA_DF['label'] = DATA_DF['label'].astype('category')\n",
        "DATA_DF['label_code'] = DATA_DF['label'].cat.codes"
      ],
      "metadata": {
        "id": "7WRUrDjPb8uw"
      },
      "execution_count": null,
      "outputs": []
    },
    {
      "cell_type": "code",
      "source": [
        "# Debug: Class distribution\n",
        "print(\"\\n🔍 Class Distribution Before Splitting:\\n\", DATA_DF['label'].value_counts())"
      ],
      "metadata": {
        "colab": {
          "base_uri": "https://localhost:8080/"
        },
        "id": "iqC6pXj8b-5D",
        "outputId": "a9edda4d-1625-4c46-8aeb-bbd51bacccac"
      },
      "execution_count": null,
      "outputs": [
        {
          "output_type": "stream",
          "name": "stdout",
          "text": [
            "\n",
            "🔍 Class Distribution Before Splitting:\n",
            " label\n",
            "Residential             3010\n",
            "AnnualCrop              3000\n",
            "Forest                  3000\n",
            "HerbaceousVegetation    3000\n",
            "SeaLake                 3000\n",
            "Highway                 2500\n",
            "PermanentCrop           2500\n",
            "Industrial              2500\n",
            "River                   2500\n",
            "Pasture                 2000\n",
            "Name: count, dtype: int64\n"
          ]
        }
      ]
    },
    {
      "cell_type": "code",
      "source": [
        "# Train-validation split\n",
        "TRAIN_DF, VALID_DF = train_test_split(DATA_DF, test_size=VALID_SIZE, stratify=DATA_DF['label_code'], random_state=48)\n",
        "print(\"\\n🔍 Train Distribution:\\n\", TRAIN_DF['label'].value_counts())\n",
        "print(\"\\n🔍 Validation Distribution:\\n\", VALID_DF['label'].value_counts())"
      ],
      "metadata": {
        "colab": {
          "base_uri": "https://localhost:8080/"
        },
        "id": "OJjNWzDncDAj",
        "outputId": "7204af11-5c11-4d6b-f2cf-58950f2b26ab"
      },
      "execution_count": null,
      "outputs": [
        {
          "output_type": "stream",
          "name": "stdout",
          "text": [
            "\n",
            "🔍 Train Distribution:\n",
            " label\n",
            "Residential             2408\n",
            "AnnualCrop              2400\n",
            "Forest                  2400\n",
            "HerbaceousVegetation    2400\n",
            "SeaLake                 2400\n",
            "Highway                 2000\n",
            "PermanentCrop           2000\n",
            "Industrial              2000\n",
            "River                   2000\n",
            "Pasture                 1600\n",
            "Name: count, dtype: int64\n",
            "\n",
            "🔍 Validation Distribution:\n",
            " label\n",
            "Residential             602\n",
            "AnnualCrop              600\n",
            "Forest                  600\n",
            "HerbaceousVegetation    600\n",
            "SeaLake                 600\n",
            "Highway                 500\n",
            "PermanentCrop           500\n",
            "Industrial              500\n",
            "River                   500\n",
            "Pasture                 400\n",
            "Name: count, dtype: int64\n"
          ]
        }
      ]
    },
    {
      "cell_type": "code",
      "source": [
        "# Compute class weights\n",
        "class_weights = compute_class_weight(class_weight='balanced', classes=np.unique(TRAIN_DF['label_code']), y=TRAIN_DF['label_code'])\n",
        "class_weights_dict = {i: class_weights[i] for i in range(len(class_weights))}"
      ],
      "metadata": {
        "id": "b2fc1JQGd1ne"
      },
      "execution_count": null,
      "outputs": []
    },
    {
      "cell_type": "code",
      "source": [
        "# Data Augmentation\n",
        "data_augmentation = tf.keras.Sequential([\n",
        "    tf.keras.layers.RandomFlip(\"horizontal_and_vertical\"),\n",
        "    tf.keras.layers.RandomRotation(0.2),\n",
        "    tf.keras.layers.RandomZoom(0.2),\n",
        "])"
      ],
      "metadata": {
        "id": "TS0dR4xrcLjW"
      },
      "execution_count": null,
      "outputs": []
    },
    {
      "cell_type": "code",
      "source": [
        "# Preprocessing function\n",
        "def process_path(file_path, label):\n",
        "    img = tf.io.read_file(file_path)\n",
        "    img = tf.image.decode_jpeg(img, channels=3)\n",
        "    img = tf.image.resize(img, IMAGE_SIZE)\n",
        "    img = tf.image.convert_image_dtype(img, tf.float32)  # Normalize\n",
        "    img = data_augmentation(img)\n",
        "    return img, label"
      ],
      "metadata": {
        "id": "0Ipq-wPBcN_p"
      },
      "execution_count": null,
      "outputs": []
    },
    {
      "cell_type": "code",
      "source": [
        "# Create dataset\n",
        "def create_dataset(df, training=True):\n",
        "    dataset = tf.data.Dataset.from_tensor_slices((df['image_path'].values, df['label_code'].values))\n",
        "    dataset = dataset.map(process_path, num_parallel_calls=tf.data.AUTOTUNE)\n",
        "    dataset = dataset.shuffle(1000).batch(BATCH_SIZE).prefetch(tf.data.AUTOTUNE) if training else dataset.batch(BATCH_SIZE).prefetch(tf.data.AUTOTUNE)\n",
        "    return dataset\n",
        "\n",
        "train_ds = create_dataset(TRAIN_DF, training=True)\n",
        "valid_ds = create_dataset(VALID_DF, training=False)"
      ],
      "metadata": {
        "id": "0RKGS10qcQyy"
      },
      "execution_count": null,
      "outputs": []
    },
    {
      "cell_type": "code",
      "source": [
        "# Debug: Check images\n",
        "def check_images(dataset, num_samples=5):\n",
        "    for images, labels in dataset.take(1):\n",
        "        fig, axes = plt.subplots(1, num_samples, figsize=(15, 5))\n",
        "        for i in range(num_samples):\n",
        "            axes[i].imshow(images[i].numpy())\n",
        "            axes[i].set_title(f\"Label: {labels[i].numpy()}\")\n",
        "            axes[i].axis('off')\n",
        "        plt.show()\n",
        "check_images(train_ds)"
      ],
      "metadata": {
        "colab": {
          "base_uri": "https://localhost:8080/",
          "height": 370
        },
        "id": "tpoeb0lBcW4L",
        "outputId": "28f9c051-df4a-4a29-d79f-b1533967ea43"
      },
      "execution_count": null,
      "outputs": [
        {
          "output_type": "stream",
          "name": "stderr",
          "text": [
            "WARNING:matplotlib.image:Clipping input data to the valid range for imshow with RGB data ([0..1] for floats or [0..255] for integers). Got range [32.66044..162.29718].\n",
            "WARNING:matplotlib.image:Clipping input data to the valid range for imshow with RGB data ([0..1] for floats or [0..255] for integers). Got range [47.028973..246.5005].\n",
            "WARNING:matplotlib.image:Clipping input data to the valid range for imshow with RGB data ([0..1] for floats or [0..255] for integers). Got range [22.427725..123.502426].\n",
            "WARNING:matplotlib.image:Clipping input data to the valid range for imshow with RGB data ([0..1] for floats or [0..255] for integers). Got range [27.508331..84.728645].\n",
            "WARNING:matplotlib.image:Clipping input data to the valid range for imshow with RGB data ([0..1] for floats or [0..255] for integers). Got range [24.62763..76.237206].\n"
          ]
        },
        {
          "output_type": "display_data",
          "data": {
            "text/plain": [
              "<Figure size 1500x500 with 5 Axes>"
            ],
            "image/png": "[encoded data removed]"
          },
          "metadata": {}
        }
      ]
    },
    {
      "cell_type": "code",
      "source": [
        "# Model Definition\n",
        "base_model = tf.keras.applications.EfficientNetB0(input_shape=(224, 224, 3), include_top=False, weights='imagenet')\n",
        "base_model.trainable = False  # Freeze base model initially"
      ],
      "metadata": {
        "id": "fWE6mBdicZSo"
      },
      "execution_count": null,
      "outputs": []
    },
    {
      "cell_type": "code",
      "source": [
        "# Freeze only first 100 layers for better learning\n",
        "for layer in base_model.layers[:100]:\n",
        "    layer.trainable = False"
      ],
      "metadata": {
        "id": "KxaWbGtvcc0U"
      },
      "execution_count": null,
      "outputs": []
    },
    {
      "cell_type": "code",
      "source": [
        "model = tf.keras.Sequential([\n",
        "    base_model,\n",
        "    tf.keras.layers.GlobalAveragePooling2D(),\n",
        "    tf.keras.layers.Dense(256, activation='relu'),\n",
        "    tf.keras.layers.Dropout(0.3),\n",
        "    tf.keras.layers.Dense(len(DATA_DF['label_code'].unique()), activation='softmax')\n",
        "])"
      ],
      "metadata": {
        "id": "lV4zPk6TcfIi"
      },
      "execution_count": null,
      "outputs": []
    },
    {
      "cell_type": "code",
      "source": [
        "# Compile Model\n",
        "model.compile(optimizer=tf.keras.optimizers.Adam(1e-4),\n",
        "              loss='sparse_categorical_crossentropy',\n",
        "              metrics=['accuracy'])"
      ],
      "metadata": {
        "id": "LqUw3z9gcig6"
      },
      "execution_count": null,
      "outputs": []
    },
    {
      "cell_type": "code",
      "source": [
        "# Train Model\n",
        "model.fit(train_ds, validation_data=valid_ds, epochs=20, class_weight=class_weights_dict)"
      ],
      "metadata": {
        "colab": {
          "base_uri": "https://localhost:8080/"
        },
        "id": "wWwq7p_0ck8o",
        "outputId": "8669c35d-1f3b-4c76-9a38-544fb6f6503c"
      },
      "execution_count": null,
      "outputs": [
        {
          "output_type": "stream",
          "name": "stdout",
          "text": [
            "Epoch 1/20\n",
            "\u001b[1m676/676\u001b[0m \u001b[32m━━━━━━━━━━━━━━━━━━━━\u001b[0m\u001b[37m\u001b[0m \u001b[1m1547s\u001b[0m 2s/step - accuracy: 0.6805 - loss: 1.0955 - val_accuracy: 0.9115 - val_loss: 0.2851\n",
            "Epoch 2/20\n",
            "\u001b[1m676/676\u001b[0m \u001b[32m━━━━━━━━━━━━━━━━━━━━\u001b[0m\u001b[37m\u001b[0m \u001b[1m383s\u001b[0m 481ms/step - accuracy: 0.8942 - loss: 0.3400 - val_accuracy: 0.9311 - val_loss: 0.2200\n",
            "Epoch 3/20\n",
            "\u001b[1m676/676\u001b[0m \u001b[32m━━━━━━━━━━━━━━━━━━━━\u001b[0m\u001b[37m\u001b[0m \u001b[1m379s\u001b[0m 477ms/step - accuracy: 0.9101 - loss: 0.2797 - val_accuracy: 0.9376 - val_loss: 0.1942\n",
            "Epoch 4/20\n",
            "\u001b[1m676/676\u001b[0m \u001b[32m━━━━━━━━━━━━━━━━━━━━\u001b[0m\u001b[37m\u001b[0m \u001b[1m399s\u001b[0m 503ms/step - accuracy: 0.9220 - loss: 0.2476 - val_accuracy: 0.9447 - val_loss: 0.1801\n",
            "Epoch 5/20\n",
            "\u001b[1m676/676\u001b[0m \u001b[32m━━━━━━━━━━━━━━━━━━━━\u001b[0m\u001b[37m\u001b[0m \u001b[1m381s\u001b[0m 502ms/step - accuracy: 0.9224 - loss: 0.2389 - val_accuracy: 0.9415 - val_loss: 0.1769\n",
            "Epoch 6/20\n",
            "\u001b[1m676/676\u001b[0m \u001b[32m━━━━━━━━━━━━━━━━━━━━\u001b[0m\u001b[37m\u001b[0m \u001b[1m367s\u001b[0m 479ms/step - accuracy: 0.9284 - loss: 0.2161 - val_accuracy: 0.9443 - val_loss: 0.1632\n",
            "Epoch 7/20\n",
            "\u001b[1m676/676\u001b[0m \u001b[32m━━━━━━━━━━━━━━━━━━━━\u001b[0m\u001b[37m\u001b[0m \u001b[1m398s\u001b[0m 504ms/step - accuracy: 0.9325 - loss: 0.2075 - val_accuracy: 0.9498 - val_loss: 0.1550\n",
            "Epoch 8/20\n",
            "\u001b[1m676/676\u001b[0m \u001b[32m━━━━━━━━━━━━━━━━━━━━\u001b[0m\u001b[37m\u001b[0m \u001b[1m382s\u001b[0m 503ms/step - accuracy: 0.9368 - loss: 0.1970 - val_accuracy: 0.9489 - val_loss: 0.1567\n",
            "Epoch 9/20\n",
            "\u001b[1m676/676\u001b[0m \u001b[32m━━━━━━━━━━━━━━━━━━━━\u001b[0m\u001b[37m\u001b[0m \u001b[1m387s\u001b[0m 510ms/step - accuracy: 0.9377 - loss: 0.1902 - val_accuracy: 0.9456 - val_loss: 0.1565\n",
            "Epoch 10/20\n",
            "\u001b[1m676/676\u001b[0m \u001b[32m━━━━━━━━━━━━━━━━━━━━\u001b[0m\u001b[37m\u001b[0m \u001b[1m367s\u001b[0m 487ms/step - accuracy: 0.9406 - loss: 0.1844 - val_accuracy: 0.9498 - val_loss: 0.1485\n",
            "Epoch 11/20\n",
            "\u001b[1m676/676\u001b[0m \u001b[32m━━━━━━━━━━━━━━━━━━━━\u001b[0m\u001b[37m\u001b[0m \u001b[1m355s\u001b[0m 508ms/step - accuracy: 0.9389 - loss: 0.1835 - val_accuracy: 0.9572 - val_loss: 0.1327\n",
            "Epoch 12/20\n",
            "\u001b[1m676/676\u001b[0m \u001b[32m━━━━━━━━━━━━━━━━━━━━\u001b[0m\u001b[37m\u001b[0m \u001b[1m383s\u001b[0m 510ms/step - accuracy: 0.9400 - loss: 0.1807 - val_accuracy: 0.9541 - val_loss: 0.1368\n",
            "Epoch 13/20\n",
            "\u001b[1m676/676\u001b[0m \u001b[32m━━━━━━━━━━━━━━━━━━━━\u001b[0m\u001b[37m\u001b[0m \u001b[1m384s\u001b[0m 512ms/step - accuracy: 0.9469 - loss: 0.1600 - val_accuracy: 0.9509 - val_loss: 0.1385\n",
            "Epoch 14/20\n",
            "\u001b[1m676/676\u001b[0m \u001b[32m━━━━━━━━━━━━━━━━━━━━\u001b[0m\u001b[37m\u001b[0m \u001b[1m365s\u001b[0m 487ms/step - accuracy: 0.9439 - loss: 0.1671 - val_accuracy: 0.9530 - val_loss: 0.1379\n",
            "Epoch 15/20\n",
            "\u001b[1m676/676\u001b[0m \u001b[32m━━━━━━━━━━━━━━━━━━━━\u001b[0m\u001b[37m\u001b[0m \u001b[1m397s\u001b[0m 510ms/step - accuracy: 0.9483 - loss: 0.1574 - val_accuracy: 0.9558 - val_loss: 0.1348\n",
            "Epoch 16/20\n",
            "\u001b[1m676/676\u001b[0m \u001b[32m━━━━━━━━━━━━━━━━━━━━\u001b[0m\u001b[37m\u001b[0m \u001b[1m367s\u001b[0m 485ms/step - accuracy: 0.9468 - loss: 0.1573 - val_accuracy: 0.9576 - val_loss: 0.1286\n",
            "Epoch 17/20\n",
            "\u001b[1m676/676\u001b[0m \u001b[32m━━━━━━━━━━━━━━━━━━━━\u001b[0m\u001b[37m\u001b[0m \u001b[1m342s\u001b[0m 488ms/step - accuracy: 0.9496 - loss: 0.1515 - val_accuracy: 0.9583 - val_loss: 0.1263\n",
            "Epoch 18/20\n",
            "\u001b[1m676/676\u001b[0m \u001b[32m━━━━━━━━━━━━━━━━━━━━\u001b[0m\u001b[37m\u001b[0m \u001b[1m379s\u001b[0m 484ms/step - accuracy: 0.9463 - loss: 0.1592 - val_accuracy: 0.9554 - val_loss: 0.1308\n",
            "Epoch 19/20\n",
            "\u001b[1m676/676\u001b[0m \u001b[32m━━━━━━━━━━━━━━━━━━━━\u001b[0m\u001b[37m\u001b[0m \u001b[1m399s\u001b[0m 512ms/step - accuracy: 0.9477 - loss: 0.1529 - val_accuracy: 0.9576 - val_loss: 0.1261\n",
            "Epoch 20/20\n",
            "\u001b[1m676/676\u001b[0m \u001b[32m━━━━━━━━━━━━━━━━━━━━\u001b[0m\u001b[37m\u001b[0m \u001b[1m386s\u001b[0m 515ms/step - accuracy: 0.9486 - loss: 0.1511 - val_accuracy: 0.9576 - val_loss: 0.1242\n"
          ]
        },
        {
          "output_type": "execute_result",
          "data": {
            "text/plain": [
              "<keras.src.callbacks.history.History at 0x7a2b10139dd0>"
            ]
          },
          "metadata": {},
          "execution_count": 17
        }
      ]
    },
    {
      "cell_type": "code",
      "source": [
        "# Fine-tuning: Unfreeze some layers\n",
        "for layer in base_model.layers[-50:]:\n",
        "    layer.trainable = True\n",
        "\n",
        "model.compile(optimizer=tf.keras.optimizers.Adam(1e-5), loss='sparse_categorical_crossentropy', metrics=['accuracy'])\n",
        "model.fit(train_ds, validation_data=valid_ds, epochs=10, class_weight=class_weights_dict)"
      ],
      "metadata": {
        "id": "6T99wbGVcoJo",
        "colab": {
          "base_uri": "https://localhost:8080/"
        },
        "outputId": "6773032b-794f-4487-d46c-4a57b49b5715"
      },
      "execution_count": null,
      "outputs": [
        {
          "output_type": "stream",
          "name": "stdout",
          "text": [
            "Epoch 1/10\n",
            "\u001b[1m676/676\u001b[0m \u001b[32m━━━━━━━━━━━━━━━━━━━━\u001b[0m\u001b[37m\u001b[0m \u001b[1m413s\u001b[0m 539ms/step - accuracy: 0.8316 - loss: 0.5301 - val_accuracy: 0.9347 - val_loss: 0.2079\n",
            "Epoch 2/10\n",
            "\u001b[1m676/676\u001b[0m \u001b[32m━━━━━━━━━━━━━━━━━━━━\u001b[0m\u001b[37m\u001b[0m \u001b[1m399s\u001b[0m 503ms/step - accuracy: 0.9081 - loss: 0.2892 - val_accuracy: 0.9441 - val_loss: 0.1600\n",
            "Epoch 3/10\n",
            "\u001b[1m676/676\u001b[0m \u001b[32m━━━━━━━━━━━━━━━━━━━━\u001b[0m\u001b[37m\u001b[0m \u001b[1m399s\u001b[0m 528ms/step - accuracy: 0.9204 - loss: 0.2495 - val_accuracy: 0.9491 - val_loss: 0.1434\n",
            "Epoch 4/10\n",
            "\u001b[1m676/676\u001b[0m \u001b[32m━━━━━━━━━━━━━━━━━━━━\u001b[0m\u001b[37m\u001b[0m \u001b[1m369s\u001b[0m 510ms/step - accuracy: 0.9282 - loss: 0.2144 - val_accuracy: 0.9524 - val_loss: 0.1332\n",
            "Epoch 5/10\n",
            "\u001b[1m676/676\u001b[0m \u001b[32m━━━━━━━━━━━━━━━━━━━━\u001b[0m\u001b[37m\u001b[0m \u001b[1m392s\u001b[0m 524ms/step - accuracy: 0.9344 - loss: 0.1922 - val_accuracy: 0.9574 - val_loss: 0.1330\n",
            "Epoch 6/10\n",
            "\u001b[1m676/676\u001b[0m \u001b[32m━━━━━━━━━━━━━━━━━━━━\u001b[0m\u001b[37m\u001b[0m \u001b[1m367s\u001b[0m 501ms/step - accuracy: 0.9357 - loss: 0.1972 - val_accuracy: 0.9598 - val_loss: 0.1209\n",
            "Epoch 7/10\n",
            "\u001b[1m676/676\u001b[0m \u001b[32m━━━━━━━━━━━━━━━━━━━━\u001b[0m\u001b[37m\u001b[0m \u001b[1m397s\u001b[0m 526ms/step - accuracy: 0.9402 - loss: 0.1816 - val_accuracy: 0.9608 - val_loss: 0.1165\n",
            "Epoch 8/10\n",
            "\u001b[1m676/676\u001b[0m \u001b[32m━━━━━━━━━━━━━━━━━━━━\u001b[0m\u001b[37m\u001b[0m \u001b[1m381s\u001b[0m 523ms/step - accuracy: 0.9440 - loss: 0.1717 - val_accuracy: 0.9602 - val_loss: 0.1174\n",
            "Epoch 9/10\n",
            "\u001b[1m561/676\u001b[0m \u001b[32m━━━━━━━━━━━━━━━━\u001b[0m\u001b[37m━━━━\u001b[0m \u001b[1m48s\u001b[0m 422ms/step - accuracy: 0.9486 - loss: 0.1612"
          ]
        }
      ]
    },
    {
      "cell_type": "code",
      "source": [
        "# Save Model\n",
        "model.save(\"best_model.keras\")"
      ],
      "metadata": {
        "id": "h8yOsomFcsK4"
      },
      "execution_count": null,
      "outputs": []
    },
    {
      "cell_type": "code",
      "source": [
        "def evaluate_model(model, dataset):\n",
        "    y_true, y_pred = [], []\n",
        "    for images, labels in dataset:\n",
        "        preds = model.predict(images)\n",
        "        y_true.extend(labels.numpy())\n",
        "        y_pred.extend(np.argmax(preds, axis=1))\n",
        "\n",
        "    cm = confusion_matrix(y_true, y_pred)\n",
        "    sns.heatmap(cm, annot=True, fmt='d', cmap='magma')\n",
        "    plt.xlabel(\"Predicted\")\n",
        "    plt.ylabel(\"Actual\")\n",
        "    plt.show()\n",
        "    print(\"\\n🔍 Classification Report:\\n\", classification_report(y_true, y_pred))"
      ],
      "metadata": {
        "id": "gQ1cCcTycvkC"
      },
      "execution_count": null,
      "outputs": []
    },
    {
      "cell_type": "code",
      "source": [
        "evaluate_model(model, valid_ds)"
      ],
      "metadata": {
        "id": "DNOgxt1Qcx06"
      },
      "execution_count": null,
      "outputs": []
    }
  ]
}